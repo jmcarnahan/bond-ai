{
 "cells": [
  {
   "cell_type": "code",
   "execution_count": 1,
   "metadata": {},
   "outputs": [
    {
     "name": "stderr",
     "output_type": "stream",
     "text": [
      "2025-03-10 15:31:11,005 - bondable.bond.config - INFO - Created Config instance\n",
      "2025-03-10 15:31:11,005 - bondable.bond.functions - INFO - Created Functions instance using class: (bondable.bond.functions.DefaultFunctions)\n",
      "2025-03-10 15:31:11,011 - bondable.bond.builder - INFO - Created AgentBuilder instance using database engine: sqlite:///.bondcache.db\n"
     ]
    }
   ],
   "source": [
    "import logging\n",
    "logging.basicConfig(\n",
    "  level=logging.INFO,  \n",
    "  format=\"%(asctime)s - %(name)s - %(levelname)s - %(message)s\",  \n",
    ")\n",
    "logging.getLogger(\"httpx\").setLevel(logging.WARNING)\n",
    "LOGGER = logging.getLogger(__name__)\n",
    "\n",
    "import os\n",
    "import pandas as pd\n",
    "from typing_extensions import override\n",
    "from bondable.bond.config import Config\n",
    "from bondable.bond.functions import Functions, DefaultFunctions\n",
    "from bondable.bond.agent import Agent\n",
    "from bondable.bond.builder import AgentBuilder, AgentDefinition\n",
    "from IPython.display import Image, display\n",
    "from dotenv import load_dotenv\n",
    "\n",
    "\n",
    "load_dotenv(override=True)\n",
    "\n",
    "user_id = \"test@user.com\"\n",
    "\n",
    "config = Config.config()\n",
    "builtin_functions = Functions.functions()\n",
    "builder = AgentBuilder.builder()\n",
    "builder.cleanup()"
   ]
  },
  {
   "cell_type": "code",
   "execution_count": 4,
   "metadata": {},
   "outputs": [
    {
     "name": "stderr",
     "output_type": "stream",
     "text": [
      "2025-03-10 15:32:18,746 - bondable.bond.builder - INFO - Creating Agent Definition with tool -> {'type': 'code_interpreter'}\n",
      "2025-03-10 15:32:19,424 - bondable.bond.builder - INFO - Created new agent [Simple Agent] with assistant_id: asst_Sk4Q6wohAkMECN8F3Dd5MyhV\n"
     ]
    },
    {
     "name": "stdout",
     "output_type": "stream",
     "text": [
      "[msg_jsJDtqG7pXWYwKjUyxtCnAHj/user] => tell me a joke\n",
      "[msg_6B0kPpsVOj4OpAP5d7XG8qb7_0/assistant] => Arrr, matey! Why did the pirate go to school?\n",
      "\n",
      "Because he wanted to improve his \"arrrticulation!\" Har har har! 🏴‍☠️\n"
     ]
    }
   ],
   "source": [
    "agent_def = AgentDefinition(\n",
    "    name=\"Simple Agent\",\n",
    "    description=\"Pirate Agent.\",\n",
    "    instructions=\"Answer requests from user like a pirate.\",\n",
    "    metadata={'visible': 'True'},\n",
    "    tools=[{\"type\": \"code_interpreter\"}]\n",
    ")\n",
    "# simple_agent = builder.get_agent(agent_def)\n",
    "# print(simple_agent)\n",
    "builder.print_responses(user_id, ['tell me a joke'], agent_def)"
   ]
  },
  {
   "cell_type": "code",
   "execution_count": 5,
   "metadata": {},
   "outputs": [
    {
     "name": "stderr",
     "output_type": "stream",
     "text": [
      "2025-03-10 15:32:30,978 - bondable.bond.builder - INFO - Creating Agent Definition with tool -> {'type': 'function', 'function': {'name': 'hello', 'description': 'Will say hello to the name provided.', 'strict': False, 'parameters': {'type': 'object', 'properties': {'name': {'type': 'string', 'description': 'The name to say hello to.'}}, 'required': ['name']}}}\n",
      "2025-03-10 15:32:31,647 - bondable.bond.builder - INFO - Created new agent [Function Agent] with assistant_id: asst_KlbpwHnhFmoYlLcRnXWW0iCf\n"
     ]
    },
    {
     "name": "stdout",
     "output_type": "stream",
     "text": [
      "[msg_LXGhXL1Rx5qUZ2pvdFSN0JIt/user] => my name is john\n"
     ]
    },
    {
     "name": "stderr",
     "output_type": "stream",
     "text": [
      "2025-03-10 15:32:34,768 - bondable.bond.functions - INFO - Saying hello to: john\n"
     ]
    },
    {
     "name": "stdout",
     "output_type": "stream",
     "text": [
      "[msg_GVtuRmnMNAZf4O5KblcEvC3v_0/assistant] => Hello, john!\n"
     ]
    }
   ],
   "source": [
    "agent_def = AgentDefinition(\n",
    "    name=\"Function Agent\",\n",
    "    description=\"Say hello to the user.\",\n",
    "    instructions=\"Call the simple method 'hello' with the name provided by the user. If no name is provided, ask the user to provide a name.\",\n",
    "    metadata={'visible': 'True'},\n",
    "    tools=[builtin_functions.hello],\n",
    ")\n",
    "builder.print_responses(user_id, ['my name is john'], agent_def)"
   ]
  },
  {
   "cell_type": "code",
   "execution_count": null,
   "metadata": {},
   "outputs": [],
   "source": [
    "agent_def = AgentDefinition(\n",
    "    name=\"Synth Agent\",\n",
    "    description=\"An agent that will load synthetic data about people and answer questions\",\n",
    "    instructions=\"\"\"When you begin you should create a synthetic data set that has the weight \n",
    "    and height of 100 people. You should answer questions about the data set\n",
    "    \"\"\",\n",
    "    tools=[{\"type\": \"code_interpreter\"}],\n",
    "    metadata={'visible': 'True', 'initial_prompt': 'Generate the data set'},\n",
    "\n",
    ")\n",
    "agent = builder.get_agent(agent_def)\n",
    "prompts = [\n",
    "  agent.get_metadata_value('initial_prompt'),\n",
    "  \"How many people are there\",\n",
    "  \"What is the average height\",\n",
    "  \"Show me a scatterplot of height vs weight\"\n",
    "]\n",
    "builder.print_responses(user_id, prompts, agent_def)\n",
    "\n"
   ]
  },
  {
   "cell_type": "code",
   "execution_count": 3,
   "metadata": {},
   "outputs": [
    {
     "name": "stderr",
     "output_type": "stream",
     "text": [
      "2025-03-10 15:31:51,466 - bondable.bond.builder - INFO - Creating Agent Definition with tool -> {'type': 'code_interpreter'}\n",
      "2025-03-10 15:31:51,468 - bondable.bond.builder - INFO - Created new file record for sample_customers.csv\n",
      "2025-03-10 15:31:53,675 - bondable.bond.builder - INFO - Created new agent [File Agent] with assistant_id: asst_i4EFohIUN9eeGQPkXb2WcoER\n",
      "2025-03-10 15:31:55,169 - bondable.bond.builder - INFO - Creating Agent Definition with tool -> {'type': 'code_interpreter'}\n",
      "2025-03-10 15:31:55,170 - bondable.bond.builder - INFO - Reusing agent [File Agent] with assistant_id: asst_i4EFohIUN9eeGQPkXb2WcoER\n"
     ]
    },
    {
     "name": "stdout",
     "output_type": "stream",
     "text": [
      "[msg_ffbwdpudOup9HHYOtGeY0UOB/user] => What are all of the customer names?\n",
      "[msg_rFnCKfNa4P79Z23DQ54sEgGd_0/assistant] => The customer names are:\n",
      "\n",
      "1. Jack Doe\n",
      "2. Jane Smith\n",
      "3. Doe Johnson\n"
     ]
    }
   ],
   "source": [
    "# Create a sample data of users\n",
    "data = {\n",
    "  'Customer_ID': [1, 2, 3],\n",
    "  'First_Name': ['Jack', 'Jane', 'Doe'],\n",
    "  'Last_Name': ['Doe', 'Smith', 'Johnson'],\n",
    "  'Email': ['john.doe@example.com', 'jane.smith@example.com', 'doe.johnson@example.com'],\n",
    "  'Phone_Number': ['123-456-7890', '234-567-8901', '345-678-9012'],\n",
    "  'Region': ['North', 'South', 'East'],\n",
    "  'Salesperson': ['Alice', 'Bob', 'Charlie'],\n",
    "  'Address': ['123 Elm St', '456 Oak St', '789 Pine St'],\n",
    "  'ZIP_Code': ['12345', '23456', '34567'],\n",
    "  'Last_Purchase_Amount': [100.50, 200.75, 150.00]\n",
    "}\n",
    "df = pd.DataFrame(data)\n",
    "data_file = 'sample_customers.csv'\n",
    "df.to_csv(data_file, index=False)\n",
    "\n",
    "agent_def = AgentDefinition(\n",
    "    name=\"File Agent\",\n",
    "    description=\"An agent that will load data about people and answer questions\",\n",
    "    instructions=\"\"\"\n",
    "    Answer questions about user data in the attached CSV file. The first row contains the\n",
    "    names of the columns. \n",
    "    \"\"\",\n",
    "    tools=[{\"type\": \"code_interpreter\"}],\n",
    "    tool_resources={\n",
    "      \"code_interpreter\": {\n",
    "        \"files\": [data_file]\n",
    "      }\n",
    "    },\n",
    "    metadata={'visible': 'True', 'initial_prompt': 'What are all of the customer names?'},\n",
    ")\n",
    "agent = builder.get_agent(agent_def)\n",
    "prompts = [\n",
    "  agent.get_metadata_value('initial_prompt'),\n",
    "]\n",
    "builder.print_responses(user_id, prompts, agent_def)\n",
    "\n",
    "\n"
   ]
  },
  {
   "cell_type": "code",
   "execution_count": 2,
   "metadata": {},
   "outputs": [
    {
     "name": "stderr",
     "output_type": "stream",
     "text": [
      "2025-03-10 15:31:20,383 - bondable.bond.builder - INFO - Creating Agent Definition with tool -> {'type': 'file_search'}\n",
      "2025-03-10 15:31:20,724 - bondable.bond.builder - INFO - Created new vector store HTML File Agent_file_search with vector_store_id: vs_67cf6838aa4c81919544bd79c4a027aa\n",
      "2025-03-10 15:31:20,966 - bondable.bond.builder - INFO - Created new file record for sample_customers.html\n",
      "2025-03-10 15:31:23,754 - bondable.bond.builder - INFO - Created new vector store [vs_67cf6838aa4c81919544bd79c4a027aa] file record for file: sample_customers.html\n",
      "2025-03-10 15:31:25,046 - bondable.bond.broker - INFO - Created Broker instance\n",
      "2025-03-10 15:31:25,048 - bondable.bond.builder - INFO - Created new agent [HTML File Agent] with assistant_id: asst_RgmmUNropmpNUMAhSNp6rqEb\n",
      "2025-03-10 15:31:25,882 - bondable.bond.builder - INFO - Creating Agent Definition with tool -> {'type': 'file_search'}\n",
      "2025-03-10 15:31:25,883 - bondable.bond.builder - INFO - Reusing agent [HTML File Agent] with assistant_id: asst_RgmmUNropmpNUMAhSNp6rqEb\n"
     ]
    },
    {
     "name": "stdout",
     "output_type": "stream",
     "text": [
      "[msg_0unEtLiRzco4KyS3XFZIfJI9/user] => What are all of the customer names?\n",
      "[msg_dA1AoiNESkbo6O5D6SfMKCiC_0/assistant] => The customer names listed in the data are as follows:\n",
      "\n",
      "1. Jack Doe\n",
      "2. Jane Smith\n",
      "3. Doe Johnson\n",
      "\n",
      "These names can be found in the provided HTML file【4:0†source】.\n"
     ]
    }
   ],
   "source": [
    "# Create a sample data of users\n",
    "data = {\n",
    "  'Customer_ID': [1, 2, 3],\n",
    "  'First_Name': ['Jack', 'Jane', 'Doe'],\n",
    "  'Last_Name': ['Doe', 'Smith', 'Johnson'],\n",
    "  'Email': ['john.doe@example.com', 'jane.smith@example.com', 'doe.johnson@example.com'],\n",
    "  'Phone_Number': ['123-456-7890', '234-567-8901', '345-678-9012'],\n",
    "  'Region': ['North', 'South', 'East'],\n",
    "  'Salesperson': ['Alice', 'Bob', 'Charlie'],\n",
    "  'Address': ['123 Elm St', '456 Oak St', '789 Pine St'],\n",
    "  'ZIP_Code': ['12345', '23456', '34567'],\n",
    "  'Last_Purchase_Amount': [100.50, 200.75, 150.00]\n",
    "}\n",
    "df = pd.DataFrame(data)\n",
    "html_file = 'sample_customers.html'\n",
    "df.to_html(html_file, index=False)\n",
    "\n",
    "agent_def = AgentDefinition(\n",
    "    name=\"HTML File Agent\",\n",
    "    description=\"An agent that will load data about people and answer questions\",\n",
    "    instructions=\"\"\"\n",
    "    Answer questions about user data in the attached HTML file.\n",
    "    \"\"\",\n",
    "    tools=[{\"type\": \"file_search\"}],\n",
    "    tool_resources={\n",
    "      \"file_search\": {\n",
    "        \"files\": [html_file]\n",
    "      }\n",
    "    },\n",
    "    metadata={'visible': 'True', 'initial_prompt': 'What are all of the customer names?'},\n",
    ")\n",
    "agent = builder.get_agent(agent_def)\n",
    "prompts = [\n",
    "  agent.get_metadata_value('initial_prompt'),\n",
    "]\n",
    "builder.print_responses(user_id, prompts, agent_def)"
   ]
  },
  {
   "cell_type": "code",
   "execution_count": null,
   "metadata": {},
   "outputs": [],
   "source": [
    "# create an agent that uses a tool written as a python method to answer questions\n",
    "# the python method 'execute_sql_googlesheets' lives in fumctions.py\n",
    "# this function will execute a SQL query on a google sheet\n",
    "\n",
    "googlesheet_assistant = openai_client.beta.assistants.update(\n",
    "    assistant_id=existing_assistants[\"Googlesheet Agent\"],\n",
    "    name=\"Googlesheet Agent\",\n",
    "    instructions=\"\"\"\n",
    "    You are an expert answering questions about customers. When asked a question, you should\n",
    "    translate the question into a SQL query and execute it using the function execute_sql_googlesheets.\n",
    "    The table name is 'df' and the columns are:\n",
    "    - Customer_ID\n",
    "    - First_Name\n",
    "    - Last_Name\n",
    "    - Email\n",
    "    - Phone_Number\n",
    "    - Region\n",
    "    - Salesperson\n",
    "    - Address\n",
    "    - ZIP_Code\n",
    "    - Last_Purchase_Amount\n",
    "\n",
    "    An example question might be \"How many customers are in each regio\" which you would translate into:\n",
    "    SELECT Region, COUNT(*) FROM df GROUP BY Region\n",
    "    \"\"\",\n",
    "    tools=[{\"type\": \"code_interpreter\"},\n",
    "       {\n",
    "        \"type\": \"function\",\n",
    "        \"function\": {\n",
    "          \"name\": \"execute_sql_googlesheets\",\n",
    "          \"description\": \"execute a sql query on a google sheet\",\n",
    "          \"parameters\": {\n",
    "            \"type\": \"object\",\n",
    "            \"properties\": {\n",
    "              \"sql_query\": {\n",
    "                \"type\": \"string\",\n",
    "                \"description\": \"the query to execute\"\n",
    "              }\n",
    "            },\n",
    "            \"required\": [\"sql_query\"]\n",
    "          }\n",
    "        }\n",
    "      }],\n",
    "    model=openai_deployment,\n",
    ")\n",
    "\n",
    "googlesheet_agent = Agent(assistant_id=googlesheet_assistant.id, functions=builtin_functions)\n"
   ]
  },
  {
   "cell_type": "code",
   "execution_count": null,
   "metadata": {},
   "outputs": [],
   "source": [
    "\n",
    "thread = openai_client.beta.threads.create()\n",
    "ask_agent_stream(\"how many customers are there\", thread, googlesheet_agent)\n",
    "response = openai_client.beta.threads.delete(thread.id)"
   ]
  },
  {
   "cell_type": "code",
   "execution_count": null,
   "metadata": {},
   "outputs": [],
   "source": [
    "# create an agent that uses two tools written as python methods to answer requests\n",
    "# both python methods lives in fumctions.py\n",
    "# the function 'execute_sql_googlesheets' will execute a SQL query on a google sheet\n",
    "# the function 'send_email' will send an email\n",
    "\n",
    "message_assistant = openai_client.beta.assistants.update(\n",
    "    assistant_id=existing_assistants[\"Message Action Agent\"],\n",
    "    name=\"Message Action Agent\",\n",
    "    instructions=\"\"\"\n",
    "    You are an expert answering questions about customers. When asked a question, you should\n",
    "    translate the question into a SQL query and execute it using the function execute_sql_googlesheets.\n",
    "    The table name is 'df' and the columns are:\n",
    "    - Customer_ID\n",
    "    - First_Name\n",
    "    - Last_Name\n",
    "    - Email\n",
    "    - Phone_Number\n",
    "    - Region\n",
    "    - Salesperson\n",
    "    - Address\n",
    "    - ZIP_Code\n",
    "    - Last_Purchase_Amount\n",
    "\n",
    "    An example question might be \"How many customers are in each regio\" which you would translate into:\n",
    "    SELECT Region, COUNT(*) FROM df GROUP BY Region\n",
    "\n",
    "    You can also send a message with results for any user questions using the function 'send_email'.\n",
    "    THis function takes a message body, a subject and a to email address as parameters. \n",
    "    \"\"\",\n",
    "    tools=[{\"type\": \"code_interpreter\"},\n",
    "       {\n",
    "        \"type\": \"function\",\n",
    "        \"function\": {\n",
    "          \"name\": \"execute_sql_googlesheets\",\n",
    "          \"description\": \"execute a sql query on a google sheet\",\n",
    "          \"parameters\": {\n",
    "            \"type\": \"object\",\n",
    "            \"properties\": {\n",
    "              \"sql_query\": {\n",
    "                \"type\": \"string\",\n",
    "                \"description\": \"the query to execute\"\n",
    "              }\n",
    "            },\n",
    "            \"required\": [\"sql_query\"]\n",
    "          }\n",
    "        }\n",
    "      },\n",
    "      {\n",
    "        \"type\": \"function\",\n",
    "        \"function\": {\n",
    "          \"name\": \"send_email\",\n",
    "          \"description\": \"send an email\",\n",
    "          \"parameters\": {\n",
    "            \"type\": \"object\",\n",
    "            \"properties\": {\n",
    "              \"to\": {\n",
    "                \"type\": \"string\",\n",
    "                \"description\": \"the to address\"\n",
    "              },\n",
    "              \"subject\": {\n",
    "                \"type\": \"string\",\n",
    "                \"description\": \"the subject of the email\"\n",
    "              },\n",
    "              \"body\": {\n",
    "                \"type\": \"string\",\n",
    "                \"description\": \"the body of the email\"\n",
    "              }\n",
    "            },\n",
    "            \"required\": [\"to\", \"subject\", \"body\"]\n",
    "          }\n",
    "        }\n",
    "      },\n",
    "      ],\n",
    "    model=openai_deployment,\n",
    ")"
   ]
  },
  {
   "cell_type": "code",
   "execution_count": null,
   "metadata": {},
   "outputs": [],
   "source": [
    "agent = Agent(assistant_id=message_assistant.id, functions=builtin_functions)\n",
    "thread = openai_client.beta.threads.create()\n",
    "ask_agent(\"how many customers are there\", thread, agent)\n",
    "response = openai_client.beta.threads.delete(thread.id)"
   ]
  }
 ],
 "metadata": {
  "kernelspec": {
   "display_name": "bond-ai-vKyH4c1u-py3.13",
   "language": "python",
   "name": "python3"
  },
  "language_info": {
   "codemirror_mode": {
    "name": "ipython",
    "version": 3
   },
   "file_extension": ".py",
   "mimetype": "text/x-python",
   "name": "python",
   "nbconvert_exporter": "python",
   "pygments_lexer": "ipython3",
   "version": "3.13.0"
  }
 },
 "nbformat": 4,
 "nbformat_minor": 2
}
