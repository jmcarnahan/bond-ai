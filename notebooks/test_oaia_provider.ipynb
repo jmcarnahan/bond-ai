{
 "cells": [
  {
   "cell_type": "code",
   "execution_count": 3,
   "metadata": {},
   "outputs": [
    {
     "name": "stderr",
     "output_type": "stream",
     "text": [
      "2025-05-27 16:41:04,706 - bondable.bond.providers.provider - INFO - Cleaning up resources for user_id: jmcarny@gmail.com\n",
      "2025-05-27 16:41:04,706 - bondable.bond.providers.agent - INFO - Cleaning up resources for user_id: jmcarny@gmail.com\n",
      "2025-05-27 16:41:05,769 - bondable.bond.providers.openai.OAIAAgent - INFO - Successfully deleted agent asst_C32tXZF0pRaotWRNx8aqzkgL from provider.\n",
      "2025-05-27 16:41:05,772 - bondable.bond.providers.agent - INFO - Deleted 1 local DB records for agent_id: asst_C32tXZF0pRaotWRNx8aqzkgL\n",
      "2025-05-27 16:41:05,773 - bondable.bond.providers.agent - INFO - Deleted agent with agent_id: asst_C32tXZF0pRaotWRNx8aqzkgL - Success: True\n"
     ]
    }
   ],
   "source": [
    "import logging\n",
    "logging.basicConfig(\n",
    "  level=logging.INFO,  \n",
    "  format=\"%(asctime)s - %(name)s - %(levelname)s - %(message)s\",  \n",
    ")\n",
    "logging.getLogger(\"httpx\").setLevel(logging.WARNING)\n",
    "LOGGER = logging.getLogger(__name__)\n",
    "\n",
    "import os\n",
    "import tempfile\n",
    "from bondable.bond.providers.provider import Provider\n",
    "from bondable.bond.providers.agent import Agent\n",
    "from bondable.bond.broker import Broker, BrokerConnectionEmpty\n",
    "from bondable.bond.definition import AgentDefinition\n",
    "from bondable.bond.functions import Functions\n",
    "from bondable.bond.config import Config\n",
    "from IPython.display import Image, display\n",
    "from dotenv import load_dotenv\n",
    "from typing import List\n",
    "import pandas as pd\n",
    "import base64\n",
    "import threading\n",
    "\n",
    "\n",
    "load_dotenv(override=True)\n",
    "\n",
    "user_id = \"jmcarny@gmail.com\"\n",
    "\n",
    "\n",
    "config = Config.config()\n",
    "provider: Provider = config.get_provider()\n",
    "builtin_functions = Functions.functions()\n",
    "provider.cleanup(user_id=user_id)\n",
    "\n",
    "def get_first_agent_id(agent_name):\n",
    "    agents: List[Agent] = provider.agents.get_agents_by_name(agent_name)\n",
    "    if len(agents) > 0:\n",
    "        return agents[0].get_agent_id()\n",
    "    return None\n",
    "\n",
    "def display_message (message):\n",
    "    if message.role == 'system':\n",
    "        LOGGER.debug(f\"Received system message, ignoring {message.message_id}\")\n",
    "        return\n",
    "    if message.type == \"text\":\n",
    "        print(f\"[{message.message_id}/{message.role}] => {message.clob.get_content()}\")\n",
    "    elif message.type == \"image_file\":\n",
    "        print(f\"[{message.message_id}/{message.role}] => \")\n",
    "        content = message.clob.get_content()\n",
    "        if content.startswith('data:image/png;base64,'):\n",
    "            base64_image = content[len('data:image/png;base64,'):]\n",
    "            image_data = base64.b64decode(base64_image)\n",
    "            display(Image(data=image_data))\n",
    "        else:\n",
    "            print(content)\n",
    "    else:\n",
    "        LOGGER.error(f\"Unknown message type {type}\")\n",
    "\n",
    "def print_responses (user_id, prompts, agent_def: AgentDefinition):\n",
    "    # Create_thread now returns an ORM object, we need its ID.\n",
    "    agent = provider.agents.create_or_update_agent(agent_def=agent_def, user_id=user_id)\n",
    "    created_thread = provider.threads.create_thread(user_id=user_id, name=f\"PrintResponses for {agent.get_name()}\")\n",
    "    thread_id = created_thread.thread_id\n",
    "    try:\n",
    "        broker = Broker.broker()\n",
    "        conn = broker.connect(thread_id=thread_id, subscriber_id=user_id)\n",
    "        for prompt in prompts:\n",
    "        \n",
    "            message = agent.create_user_message(prompt, thread_id)\n",
    "            thread = threading.Thread(target=agent.broadcast_response, args=(None, thread_id), daemon=True)\n",
    "            thread.start()\n",
    "            while True:\n",
    "                try:\n",
    "                    bond_msg = conn.wait_for_message(timeout=5)\n",
    "                    if bond_msg is None:\n",
    "                        break\n",
    "                    display_message(bond_msg)\n",
    "                    if bond_msg.is_done:\n",
    "                        break\n",
    "                except BrokerConnectionEmpty:\n",
    "                    continue\n",
    "                except Exception as e:\n",
    "                    LOGGER.error(f\"Error: {e}\")\n",
    "                    break\n",
    "            thread.join()\n",
    "\n",
    "        conn.close()\n",
    "    finally:\n",
    "        provider.threads.delete_thread(thread_id=thread_id, user_id=user_id)\n"
   ]
  },
  {
   "cell_type": "code",
   "execution_count": null,
   "metadata": {},
   "outputs": [
    {
     "name": "stderr",
     "output_type": "stream",
     "text": [
      "2025-05-27 16:40:42,124 - bondable.bond.providers.openai.OAIAAgent - INFO - No ID provided. Attempting to create new agent named 'Simple Agent'\n",
      "2025-05-27 16:40:42,124 - bondable.bond.providers.openai.OAIAAgent - INFO - Creating new OpenAI assistant: Simple Agent\n",
      "2025-05-27 16:40:42,574 - bondable.bond.providers.openai.OAIAAgent - INFO - Successfully created new agent 'Simple Agent' with ID 'asst_C32tXZF0pRaotWRNx8aqzkgL'.\n",
      "2025-05-27 16:40:42,574 - bondable.bond.broker - INFO - Created Broker instance\n",
      "2025-05-27 16:40:42,576 - bondable.bond.providers.agent - INFO - Creating new agent record for agent_id: asst_C32tXZF0pRaotWRNx8aqzkgL\n",
      "2025-05-27 16:40:43,343 - bondable.bond.providers.openai.OAIAThreads - INFO - Successfully created thread thread_8qKEUxxyLRQqDTILcbgXUlbs from provider\n"
     ]
    },
    {
     "name": "stdout",
     "output_type": "stream",
     "text": [
      "[msg_3wfhC0bmQNZRMCEr7AehYAlz_0/assistant] => Arrr, why did the pirate go to school? Because he wanted to improve his arrrticulation! Har har har!\n"
     ]
    },
    {
     "name": "stderr",
     "output_type": "stream",
     "text": [
      "2025-05-27 16:40:52,767 - bondable.bond.providers.openai.OAIAThreads - INFO - Successfully deleted thread thread_8qKEUxxyLRQqDTILcbgXUlbs from openai\n",
      "2025-05-27 16:40:52,768 - bondable.bond.providers.threads - INFO - Deleted 1 DB records for thread_id: thread_8qKEUxxyLRQqDTILcbgXUlbs and user_id: jmcarny@gmail.com - remaining users: 0\n"
     ]
    }
   ],
   "source": [
    "agent_def = AgentDefinition(\n",
    "    name=\"Simple Agent\",\n",
    "    id=get_first_agent_id(\"Simple Agent\"),\n",
    "    description=\"Pirate Agent.\",\n",
    "    instructions=\"Answer requests from user like a pirate.\",\n",
    "    model=\"gpt-4o-nano\",\n",
    "    metadata={'visible': 'True'},\n",
    "    tools=[{\"type\": \"code_interpreter\"}],\n",
    "    user_id=user_id\n",
    ")\n",
    "print_responses(user_id=user_id, prompts=['tell me a joke'], agent_def=agent_def)"
   ]
  },
  {
   "cell_type": "code",
   "execution_count": null,
   "metadata": {},
   "outputs": [
    {
     "name": "stderr",
     "output_type": "stream",
     "text": [
      "2025-05-27 16:42:34,515 - bondable.bond.providers.openai.OAIAAgent - INFO - No ID provided. Attempting to create new agent named 'Function Agent'\n",
      "2025-05-27 16:42:34,515 - bondable.bond.providers.openai.OAIAAgent - INFO - Creating new OpenAI assistant: Function Agent\n",
      "2025-05-27 16:42:35,265 - bondable.bond.providers.openai.OAIAAgent - INFO - Successfully created new agent 'Function Agent' with ID 'asst_MSSXQSToDhkn1MKG3JEQpS53'.\n",
      "2025-05-27 16:42:35,266 - bondable.bond.providers.agent - INFO - Creating new agent record for agent_id: asst_MSSXQSToDhkn1MKG3JEQpS53\n",
      "2025-05-27 16:42:35,572 - bondable.bond.providers.openai.OAIAThreads - INFO - Successfully created thread thread_GiE944nbkmSjsUK7dbhDD8lW from provider\n",
      "2025-05-27 16:42:39,978 - bondable.bond.functions - INFO - Saying hello to: john\n"
     ]
    },
    {
     "name": "stdout",
     "output_type": "stream",
     "text": [
      "[msg_klor10h8KnHpofcYiJ6u2Z8A_0/assistant] => Hello, john!\n"
     ]
    },
    {
     "name": "stderr",
     "output_type": "stream",
     "text": [
      "2025-05-27 16:42:50,422 - bondable.bond.providers.openai.OAIAThreads - INFO - Successfully deleted thread thread_GiE944nbkmSjsUK7dbhDD8lW from openai\n",
      "2025-05-27 16:42:50,423 - bondable.bond.providers.threads - INFO - Deleted 1 DB records for thread_id: thread_GiE944nbkmSjsUK7dbhDD8lW and user_id: jmcarny@gmail.com - remaining users: 0\n"
     ]
    }
   ],
   "source": [
    "agent_def = AgentDefinition(\n",
    "    name=\"Function Agent\",\n",
    "    id=get_first_agent_id(\"Function Agent\"),\n",
    "    description=\"Say hello to the user.\",\n",
    "    instructions=\"Call the simple method 'hello' with the name provided by the user. If no name is provided, ask the user to provide a name.\",\n",
    "    metadata={'visible': 'True'},\n",
    "    tools=[builtin_functions.hello],\n",
    "    model=\"gpt-4o-nano\",\n",
    "    user_id=user_id\n",
    ")\n",
    "print_responses(user_id=user_id, prompts=['my name is john'], agent_def=agent_def)"
   ]
  },
  {
   "cell_type": "code",
   "execution_count": null,
   "metadata": {},
   "outputs": [],
   "source": [
    "agent_def = AgentDefinition(\n",
    "    name=\"Synth Agent\",\n",
    "    id=get_first_agent_id(\"Synth Agent\"),\n",
    "    description=\"An agent that will load synthetic data about people and answer questions\",\n",
    "    instructions=\"\"\"When you begin you should create a synthetic data set that has the weight \n",
    "    and height of 100 people. You should answer questions about the data set\n",
    "    \"\"\",\n",
    "    tools=[{\"type\": \"code_interpreter\"}],\n",
    "    metadata={'visible': 'True', 'initial_prompt': 'Generate the data set'},\n",
    "    model=\"gpt-4o-nano\",\n",
    "    user_id=user_id\n",
    ")\n",
    "agent = provider.agents.create_or_update_agent(agent_def=agent_def, user_id=user_id)\n",
    "prompts = [\n",
    "  agent.get_metadata_value('initial_prompt'),\n",
    "  \"How many people are there\",\n",
    "  \"What is the average height\",\n",
    "  # \"Show me a scatterplot of height vs weight\"\n",
    "]\n",
    "print_responses(user_id, prompts, agent_def)"
   ]
  },
  {
   "cell_type": "code",
   "execution_count": null,
   "metadata": {},
   "outputs": [],
   "source": [
    "# Create a sample data of users\n",
    "data = {\n",
    "  'Customer_ID': [1, 2, 3],\n",
    "  'First_Name': ['Jack', 'Jane', 'Doe'],\n",
    "  'Last_Name': ['Doe', 'Smith', 'Johnson'],\n",
    "  'Email': ['john.doe@example.com', 'jane.smith@example.com', 'doe.johnson@example.com'],\n",
    "  'Phone_Number': ['123-456-7890', '234-567-8901', '345-678-9012'],\n",
    "  'Region': ['North', 'South', 'East'],\n",
    "  'Salesperson': ['Alice', 'Bob', 'Charlie'],\n",
    "  'Address': ['123 Elm St', '456 Oak St', '789 Pine St'],\n",
    "  'ZIP_Code': ['12345', '23456', '34567'],\n",
    "  'Last_Purchase_Amount': [100.50, 200.75, 150.00]\n",
    "}\n",
    "\n",
    "\n",
    "df = pd.DataFrame(data)\n",
    "data_file = tempfile.NamedTemporaryFile(suffix=\".csv\", delete=True)\n",
    "df.to_csv(data_file.name, index=False)\n",
    "\n",
    "initial_prompt = \"What are all of the customer names?\"\n",
    "agent_def = AgentDefinition(\n",
    "    name=\"File Agent\",\n",
    "    id=get_first_agent_id(\"File Agent\"),\n",
    "    description=\"An agent that will load data about people and answer questions\",\n",
    "    instructions=\"\"\"\n",
    "    Answer questions about user data in the attached CSV file. The first row contains the\n",
    "    names of the columns. \n",
    "    \"\"\",\n",
    "    tools=[{\"type\": \"code_interpreter\"}],\n",
    "    tool_resources={\n",
    "      \"code_interpreter\": {\n",
    "        \"files\": [(data_file.name, None)]\n",
    "      }\n",
    "    },\n",
    "    metadata={'visible': 'True', 'initial_prompt': initial_prompt},\n",
    ")\n",
    "print_responses(user_id, [initial_prompt], agent_def)\n",
    "os.remove(data_file.name)\n"
   ]
  },
  {
   "cell_type": "code",
   "execution_count": null,
   "metadata": {},
   "outputs": [],
   "source": [
    "# Create a sample data of users\n",
    "data = {\n",
    "  'Customer_ID': [1, 2, 3],\n",
    "  'First_Name': ['Jack', 'Jane', 'Doe'],\n",
    "  'Last_Name': ['Doe', 'Smith', 'Johnson'],\n",
    "  'Email': ['john.doe@example.com', 'jane.smith@example.com', 'doe.johnson@example.com'],\n",
    "  'Phone_Number': ['123-456-7890', '234-567-8901', '345-678-9012'],\n",
    "  'Region': ['North', 'South', 'East'],\n",
    "  'Salesperson': ['Alice', 'Bob', 'Charlie'],\n",
    "  'Address': ['123 Elm St', '456 Oak St', '789 Pine St'],\n",
    "  'ZIP_Code': ['12345', '23456', '34567'],\n",
    "  'Last_Purchase_Amount': [100.50, 200.75, 150.00]\n",
    "}\n",
    "\n",
    "df = pd.DataFrame(data)\n",
    "html_file = tempfile.NamedTemporaryFile(suffix=\".html\", delete=True)\n",
    "df.to_html(html_file.name, index=False)\n",
    "\n",
    "initial_prompt = \"What are all of the customer names?\"\n",
    "agent_def = AgentDefinition(\n",
    "    name=\"HTML File Agent\",\n",
    "    id=get_first_agent_id(\"HTML File Agent\"),\n",
    "    description=\"An agent that will load data about people and answer questions\",\n",
    "    instructions=\"\"\"\n",
    "    Answer questions about user data in the attached HTML file.\n",
    "    \"\"\",\n",
    "    tools=[{\"type\": \"file_search\"}],\n",
    "    tool_resources={\n",
    "      \"file_search\": {\n",
    "        \"files\": [(html_file.name, None)]\n",
    "      }\n",
    "    },\n",
    "    metadata={'visible': 'True', 'initial_prompt': initial_prompt},\n",
    ")\n",
    "print_responses(user_id, [initial_prompt], agent_def)\n",
    "os.remove(html_file.name)\n"
   ]
  }
 ],
 "metadata": {
  "kernelspec": {
   "display_name": ".venv",
   "language": "python",
   "name": "python3"
  },
  "language_info": {
   "codemirror_mode": {
    "name": "ipython",
    "version": 3
   },
   "file_extension": ".py",
   "mimetype": "text/x-python",
   "name": "python",
   "nbconvert_exporter": "python",
   "pygments_lexer": "ipython3",
   "version": "3.12.9"
  }
 },
 "nbformat": 4,
 "nbformat_minor": 2
}
